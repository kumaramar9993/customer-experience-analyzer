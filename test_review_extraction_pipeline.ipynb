{
 "cells": [
  {
   "cell_type": "code",
   "execution_count": null,
   "metadata": {},
   "outputs": [],
   "source": [
    "import os\n",
    "from src import fetchReview\n",
    "from src.data_extraction_pipeline import ReviewExtractionPipeline"
   ]
  },
  {
   "cell_type": "code",
   "execution_count": null,
   "metadata": {},
   "outputs": [],
   "source": [
    "app_info = {\n",
    "    \"google_play_store_info\":'com.phonepe.app',\n",
    "    \"apple_play_store_info\" :\"https://apps.apple.com/in/app/phonepe-secure-payments-app/id1170055821\"\n",
    "}\n",
    "rep = ReviewExtractionPipeline(company_name=\"PhonePe\",app_info=app_info)\n"
   ]
  },
  {
   "cell_type": "code",
   "execution_count": null,
   "metadata": {},
   "outputs": [
    {
     "name": "stdout",
     "output_type": "stream",
     "text": [
      "Class objects create for review extraction\n"
     ]
    },
    {
     "name": "stderr",
     "output_type": "stream",
     "text": [
      "2024-02-15 15:33:58,891 [INFO] Base - Initialised: AppStore('in', 'phonepe-secure-payments-app', 1170055821)\n",
      "2024-02-15 15:33:58,891 [INFO] Base - Ready to fetch reviews from: https://apps.apple.com/in/app/phonepe-secure-payments-app/id1170055821\n",
      "2024-02-15 15:34:03,912 [INFO] Base - [id:1170055821] Fetched 240 reviews (240 fetched in total)\n",
      "2024-02-15 15:34:09,505 [INFO] Base - [id:1170055821] Fetched 540 reviews (540 fetched in total)\n",
      "2024-02-15 15:34:14,956 [INFO] Base - [id:1170055821] Fetched 820 reviews (820 fetched in total)\n",
      "2024-02-15 15:34:20,518 [INFO] Base - [id:1170055821] Fetched 1120 reviews (1120 fetched in total)\n",
      "2024-02-15 15:34:26,219 [INFO] Base - [id:1170055821] Fetched 1420 reviews (1420 fetched in total)\n",
      "2024-02-15 15:34:31,889 [INFO] Base - [id:1170055821] Fetched 1720 reviews (1720 fetched in total)\n"
     ]
    }
   ],
   "source": [
    "rep.write()"
   ]
  },
  {
   "cell_type": "code",
   "execution_count": null,
   "metadata": {},
   "outputs": [],
   "source": []
  },
  {
   "cell_type": "code",
   "execution_count": null,
   "metadata": {},
   "outputs": [
    {
     "ename": "NameError",
     "evalue": "name '__file__' is not defined",
     "output_type": "error",
     "traceback": [
      "\u001b[0;31m---------------------------------------------------------------------------\u001b[0m",
      "\u001b[0;31mNameError\u001b[0m                                 Traceback (most recent call last)",
      "Cell \u001b[0;32mIn[3], line 52\u001b[0m\n\u001b[1;32m     47\u001b[0m \u001b[38;5;28;01mif\u001b[39;00m \u001b[38;5;18m__name__\u001b[39m \u001b[38;5;241m==\u001b[39m\u001b[38;5;124m'\u001b[39m\u001b[38;5;124m__main__\u001b[39m\u001b[38;5;124m'\u001b[39m:\n\u001b[1;32m     48\u001b[0m     app_info \u001b[38;5;241m=\u001b[39m {\n\u001b[1;32m     49\u001b[0m         \u001b[38;5;124m\"\u001b[39m\u001b[38;5;124mgoogle_play_store_info\u001b[39m\u001b[38;5;124m\"\u001b[39m:\u001b[38;5;124m'\u001b[39m\u001b[38;5;124mcom.phonepe.app\u001b[39m\u001b[38;5;124m'\u001b[39m,\n\u001b[1;32m     50\u001b[0m         \u001b[38;5;124m\"\u001b[39m\u001b[38;5;124mapple_play_store_info\u001b[39m\u001b[38;5;124m\"\u001b[39m :\u001b[38;5;124m\"\u001b[39m\u001b[38;5;124mhttps://apps.apple.com/in/app/phonepe-secure-payments-app/id1170055821\u001b[39m\u001b[38;5;124m\"\u001b[39m\n\u001b[1;32m     51\u001b[0m     }\n\u001b[0;32m---> 52\u001b[0m     rep \u001b[38;5;241m=\u001b[39m ReviewExtractionPipeline(company_name\u001b[38;5;241m=\u001b[39m\u001b[38;5;124m\"\u001b[39m\u001b[38;5;124mPhonePe\u001b[39m\u001b[38;5;124m\"\u001b[39m,app_info\u001b[38;5;241m=\u001b[39mapp_info)\n\u001b[1;32m     53\u001b[0m     rep\u001b[38;5;241m.\u001b[39mwrite()\n",
      "Cell \u001b[0;32mIn[3], line 12\u001b[0m, in \u001b[0;36mReviewExtractionPipeline.__init__\u001b[0;34m(self, company_name, app_info)\u001b[0m\n\u001b[1;32m      8\u001b[0m \u001b[38;5;28mself\u001b[39m\u001b[38;5;241m.\u001b[39mapple_app_id \u001b[38;5;241m=\u001b[39m app_info[\u001b[38;5;124m\"\u001b[39m\u001b[38;5;124mapple_play_store_info\u001b[39m\u001b[38;5;124m\"\u001b[39m]\n\u001b[1;32m     10\u001b[0m \u001b[38;5;66;03m# self.google_app_id = self.google_store_info.app_id\u001b[39;00m\n\u001b[1;32m     11\u001b[0m \u001b[38;5;66;03m# self.apple_app_id = self.apple_store_info.app_url\u001b[39;00m\n\u001b[0;32m---> 12\u001b[0m dirname \u001b[38;5;241m=\u001b[39m os\u001b[38;5;241m.\u001b[39mpath\u001b[38;5;241m.\u001b[39mdirname(\u001b[38;5;18m__file__\u001b[39m)\n\u001b[1;32m     13\u001b[0m \u001b[38;5;28mself\u001b[39m\u001b[38;5;241m.\u001b[39moutput_path \u001b[38;5;241m=\u001b[39m os\u001b[38;5;241m.\u001b[39mpath\u001b[38;5;241m.\u001b[39mjoin(dirname, \u001b[38;5;124m\"\u001b[39m\u001b[38;5;124mdata\u001b[39m\u001b[38;5;124m\"\u001b[39m,company_name)\n",
      "\u001b[0;31mNameError\u001b[0m: name '__file__' is not defined"
     ]
    }
   ],
   "source": [
    "from src.fetchReview import GoogleAppReviewExtractionPipeline,AppleAppReviewExtractionPipeline\n",
    "\n",
    "\n",
    "class ReviewExtractionPipeline():\n",
    "    def __init__(self,company_name,app_info):\n",
    "        self.company_name = company_name\n",
    "        self.google_app_id = app_info[\"google_play_store_info\"]\n",
    "        self.apple_app_id = app_info[\"apple_play_store_info\"]\n",
    "        \n",
    "        # self.google_app_id = self.google_store_info.app_id\n",
    "        # self.apple_app_id = self.apple_store_info.app_url\n",
    "        dirname = os.path.dirname(__file__)\n",
    "        self.output_path = os.path.join(dirname, \"data\",company_name)\n",
    "\n",
    "    def extract_review(self):\n",
    "        google_reviews = GoogleAppReviewExtractionPipeline(self.google_app_id)\n",
    "        apple_reviews = AppleAppReviewExtractionPipeline(self.apple_app_id)\n",
    "        return google_reviews, apple_reviews\n",
    "    \n",
    "    def combine_reviews(self):\n",
    "\n",
    "        # extracting review\n",
    "        google_df, apple_df = self.extract_review()\n",
    "        \n",
    "        # app review - rearranging columns\n",
    "        apple_df[\"content\"] = apple_df[[\"title\",\"review\"]].fillna(\"\").agg('. '.join, axis=1)\n",
    "        apple_df.loc[:,\"thumbsUpCount\"] = 1\n",
    "        apple_df = apple_df[[\"date\",\"rating\",\"thumbsUpCount\",\"content\"]]\n",
    "        apple_df.columns = [\"date\",\"rating\",\"thumbsUpCount\",\"review\"]\n",
    "        apple_df.loc[:,\"source\"] = \"Apple Play Store\"\n",
    "\n",
    "        # google review - rearranging columns\n",
    "        google_df = google_df[[\"at\",\"score\",\"thumbsUpCount\",\"content\"]]\n",
    "        google_df.columns = [\"date\",\"rating\",\"thumbsUpCount\",\"review\"]\n",
    "        google_df.loc[:,\"source\"] = \"Google Play Store\"\n",
    "        \n",
    "        # combining reviews\n",
    "        all_reviews_df =  pd.concat([google_df,apple_df],axis=0)\n",
    "        \n",
    "        return all_reviews_df\n",
    "    def write(self):\n",
    "        df = self.combine_reviews()\n",
    "        df.to_csv(self.output_path,index=False)\n",
    "\n",
    "        \n",
    "        \n",
    "if __name__ =='__main__':\n",
    "    app_info = {\n",
    "        \"google_play_store_info\":'com.phonepe.app',\n",
    "        \"apple_play_store_info\" :\"https://apps.apple.com/in/app/phonepe-secure-payments-app/id1170055821\"\n",
    "    }\n",
    "    rep = ReviewExtractionPipeline(company_name=\"PhonePe\",app_info=app_info)\n",
    "    rep.write()\n",
    "\n",
    "\n",
    "    \n"
   ]
  },
  {
   "cell_type": "code",
   "execution_count": null,
   "metadata": {},
   "outputs": [],
   "source": []
  }
 ],
 "metadata": {
  "kernelspec": {
   "display_name": "Python 3",
   "language": "python",
   "name": "python3"
  },
  "language_info": {
   "codemirror_mode": {
    "name": "ipython",
    "version": 3
   },
   "file_extension": ".py",
   "mimetype": "text/x-python",
   "name": "python",
   "nbconvert_exporter": "python",
   "pygments_lexer": "ipython3",
   "version": "3.11.5"
  }
 },
 "nbformat": 4,
 "nbformat_minor": 2
}
